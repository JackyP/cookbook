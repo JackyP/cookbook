{
 "cells": [
  {
   "cell_type": "markdown",
   "id": "3aa1a767",
   "metadata": {},
   "source": [
    "# Setting Up R"
   ]
  },
  {
   "cell_type": "markdown",
   "id": "84734ab4",
   "metadata": {},
   "source": [
    "By YAP and YDAWG members.\n",
    "\n",
    "This document will help you to get ready with R. Original version as a Word document can be found [here](https://github.com/ActuariesInstitute/YAP-YDAWG-R-Workshop/raw/master/R_Session_Prework.docx)."
   ]
  },
  {
   "cell_type": "markdown",
   "id": "37f8d97b",
   "metadata": {},
   "source": [
    "## Step 1 – Install base R\n",
    "### Windows\n",
    " * Download the Windows R installer from https://cran.r-project.org/bin/windows/base/"
   ]
  },
  {
   "cell_type": "markdown",
   "id": "5be8145c",
   "metadata": {},
   "source": [
    "![image.png](/_static/install_r_img/install_R_win.png)"
   ]
  },
  {
   "cell_type": "markdown",
   "id": "4b3638b4",
   "metadata": {},
   "source": [
    " * Run the installer"
   ]
  },
  {
   "cell_type": "markdown",
   "id": "50ec5583",
   "metadata": {},
   "source": [
    "![image.png](/_static/install_r_img/install_R_win2.png)"
   ]
  },
  {
   "cell_type": "markdown",
   "id": "827157cb",
   "metadata": {},
   "source": [
    "### MacOS\n",
    "![image.png](/_static/install_r_img/install_R_mac.png)"
   ]
  },
  {
   "cell_type": "markdown",
   "id": "8dd56f96",
   "metadata": {},
   "source": [
    " * Run the installer"
   ]
  },
  {
   "cell_type": "markdown",
   "id": "c0ddbd7b",
   "metadata": {},
   "source": [
    "![image.png](/_static/install_r_img/install_R_mac2.png)"
   ]
  },
  {
   "cell_type": "markdown",
   "id": "90129607",
   "metadata": {},
   "source": [
    "## Step 2 – Install RStudio\n",
    "\n",
    "RStudio is an open source development environment for R. It adds functionality to make R coding easier and faster.\n",
    " * Download the RStudio installer from https://www.rstudio.com/products/rstudio/download/#download (Windows marked in red, use the one below for MacOS."
   ]
  },
  {
   "cell_type": "markdown",
   "id": "f3c3b40e",
   "metadata": {},
   "source": [
    "![image.png](/_static/install_r_img/dl_Rstudio_win.png)"
   ]
  },
  {
   "cell_type": "markdown",
   "id": "913b87d2",
   "metadata": {},
   "source": [
    " * Install RStudio (Windows)"
   ]
  },
  {
   "cell_type": "markdown",
   "id": "811db509",
   "metadata": {},
   "source": [
    "![image.png](/_static/install_r_img/install_Rstudio_win.png)"
   ]
  },
  {
   "cell_type": "markdown",
   "id": "b227a66a",
   "metadata": {},
   "source": [
    " * Install Rstudio (MacOS)\n",
    "  ![image.png](/_static/install_r_img/install_Rstudio_mac.png)"
   ]
  },
  {
   "cell_type": "markdown",
   "id": "c3ff051a",
   "metadata": {},
   "source": [
    "## Step 3 – Setup package installation location\n",
    " * Open RStudio"
   ]
  },
  {
   "cell_type": "markdown",
   "id": "86cb0fa0",
   "metadata": {},
   "source": [
    "![image.png](/_static/install_r_img/code_editor.png)"
   ]
  },
  {
   "cell_type": "markdown",
   "id": "ac727ba1",
   "metadata": {},
   "source": [
    "Packages are additional functions and tools that extend R’s functionality.  They are critical to making full use of R and RStudio."
   ]
  },
  {
   "cell_type": "markdown",
   "id": "842934ae",
   "metadata": {},
   "source": [
    "## Step 4 – Install the packages\n",
    "\n",
    "You may now run code or commands by typing it into editor and using ``Ctrl+Enter`` to run, or directly into the R console and pressing ``Enter``.\n",
    "\n",
    " * The ``install.packages`` command will download and install R packages\n",
    " * Packages that require other packages will install all dependencies at once\n",
    "\n",
    " * Run ``install.packages(<<package name>>)`` for each of the packages listed above → This will download and install the packages into your library\n",
    " * Finally, run the ``library(<<package name>>)`` command to load the library into your R session\n",
    "\n",
    "You can use the ``sessionInfo()`` command to list out the packages your R session has attached."
   ]
  }
 ],
 "metadata": {
  "jupytext": {
   "formats": "ipynb,md:myst",
   "text_representation": {
    "extension": ".md",
    "format_name": "myst",
    "format_version": 0.13,
    "jupytext_version": "1.11.3"
   }
  },
  "kernelspec": {
   "display_name": "R",
   "language": "R",
   "name": "ir"
  },
  "source_map": [
   13,
   17,
   22,
   28,
   32,
   36,
   40,
   45,
   49,
   53,
   60,
   64,
   68,
   72,
   77,
   82,
   86,
   90
  ]
 },
 "nbformat": 4,
 "nbformat_minor": 5
}