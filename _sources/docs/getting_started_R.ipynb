{
 "cells": [
  {
   "cell_type": "markdown",
   "id": "708f3340",
   "metadata": {},
   "source": [
    "# Setting Up R"
   ]
  },
  {
   "cell_type": "markdown",
   "id": "8c6b5872",
   "metadata": {},
   "source": [
    "By YAP and YDAWG members.\n",
    "\n",
    "This document will help you to get ready with R. Original version as a Word document can be found [here](https://github.com/ActuariesInstitute/YAP-YDAWG-R-Workshop/raw/master/R_Session_Prework.docx)."
   ]
  },
  {
   "cell_type": "markdown",
   "id": "3f9b69f3",
   "metadata": {},
   "source": [
    "## Step 1 – Install base R\n",
    "### Windows\n",
    " * Download the Windows R installer from https://cran.r-project.org/bin/windows/base/"
   ]
  },
  {
   "cell_type": "markdown",
   "id": "98ee4d8b",
   "metadata": {},
   "source": [
    "![image.png](/_static/install_r_img/install_R_win.png)"
   ]
  },
  {
   "cell_type": "markdown",
   "id": "e689e483",
   "metadata": {},
   "source": [
    " * Run the installer"
   ]
  },
  {
   "cell_type": "markdown",
   "id": "ec873fdd",
   "metadata": {},
   "source": [
    "![image.png](/_static/install_r_img/install_R_win2.png)"
   ]
  },
  {
   "cell_type": "markdown",
   "id": "24d3ad13",
   "metadata": {},
   "source": [
    "### MacOS\n",
    "![image.png](/_static/install_r_img/install_R_mac.png)"
   ]
  },
  {
   "cell_type": "markdown",
   "id": "3e20c8f8",
   "metadata": {},
   "source": [
    " * Run the installer"
   ]
  },
  {
   "cell_type": "markdown",
   "id": "6bf25f38",
   "metadata": {},
   "source": [
    "![image.png](/_static/install_r_img/install_R_mac2.png)"
   ]
  },
  {
   "cell_type": "markdown",
   "id": "250651d3",
   "metadata": {},
   "source": [
    "## Step 2 – Install RStudio\n",
    "\n",
    "RStudio is an open source development environment for R. It adds functionality to make R coding easier and faster.\n",
    " * Download the RStudio installer from https://www.rstudio.com/products/rstudio/download/#download (Windows marked in red, use the one below for MacOS."
   ]
  },
  {
   "cell_type": "markdown",
   "id": "d4d8dae2",
   "metadata": {},
   "source": [
    "![image.png](/_static/install_r_img/dl_Rstudio_win.png)"
   ]
  },
  {
   "cell_type": "markdown",
   "id": "b7e7167b",
   "metadata": {},
   "source": [
    " * Install RStudio (Windows)"
   ]
  },
  {
   "cell_type": "markdown",
   "id": "a0100272",
   "metadata": {},
   "source": [
    "![image.png](/_static/install_r_img/install_Rstudio_win.png)"
   ]
  },
  {
   "cell_type": "markdown",
   "id": "3b83ccf2",
   "metadata": {},
   "source": [
    " * Install Rstudio (MacOS)\n",
    "  ![image.png](/_static/install_r_img/install_Rstudio_mac.png)"
   ]
  },
  {
   "cell_type": "markdown",
   "id": "ce676229",
   "metadata": {},
   "source": [
    "## Step 3 – Setup package installation location\n",
    " * Open RStudio"
   ]
  },
  {
   "cell_type": "markdown",
   "id": "1398457e",
   "metadata": {},
   "source": [
    "![image.png](/_static/install_r_img/code_editor.png)"
   ]
  },
  {
   "cell_type": "markdown",
   "id": "60e9b97c",
   "metadata": {},
   "source": [
    "Packages are additional functions and tools that extend R’s functionality.  They are critical to making full use of R and RStudio."
   ]
  },
  {
   "cell_type": "markdown",
   "id": "c3cf4f0b",
   "metadata": {},
   "source": [
    "## Step 4 – Install the packages\n",
    "\n",
    "You may now run code or commands by typing it into editor and using ``Ctrl+Enter`` to run, or directly into the R console and pressing ``Enter``.\n",
    "\n",
    " * The ``install.packages`` command will download and install R packages\n",
    " * Packages that require other packages will install all dependencies at once\n",
    "\n",
    " * Run ``install.packages(<<package name>>)`` for each of the packages listed above → This will download and install the packages into your library\n",
    " * Finally, run the ``library(<<package name>>)`` command to load the library into your R session\n",
    "\n",
    "You can use the ``sessionInfo()`` command to list out the packages your R session has attached."
   ]
  }
 ],
 "metadata": {
  "jupytext": {
   "formats": "ipynb,md:myst",
   "text_representation": {
    "extension": ".md",
    "format_name": "myst",
    "format_version": 0.13,
    "jupytext_version": "1.11.3"
   }
  },
  "kernelspec": {
   "display_name": "R",
   "language": "R",
   "name": "ir"
  },
  "source_map": [
   13,
   17,
   22,
   28,
   32,
   36,
   40,
   45,
   49,
   53,
   60,
   64,
   68,
   72,
   77,
   82,
   86,
   90
  ]
 },
 "nbformat": 4,
 "nbformat_minor": 5
}